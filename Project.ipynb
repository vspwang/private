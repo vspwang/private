{
 "cells": [
  {
   "cell_type": "code",
   "execution_count": 1,
   "metadata": {},
   "outputs": [
    {
     "name": "stderr",
     "output_type": "stream",
     "text": [
      "/Users/nn960208/anaconda2/lib/python2.7/site-packages/sklearn/cross_validation.py:41: DeprecationWarning: This module was deprecated in version 0.18 in favor of the model_selection module into which all the refactored classes and functions are moved. Also note that the interface of the new CV iterators are different from that of this module. This module will be removed in 0.20.\n",
      "  \"This module will be removed in 0.20.\", DeprecationWarning)\n",
      "/Users/nn960208/anaconda2/lib/python2.7/site-packages/sklearn/grid_search.py:42: DeprecationWarning: This module was deprecated in version 0.18 in favor of the model_selection module into which all the refactored classes and functions are moved. This module will be removed in 0.20.\n",
      "  DeprecationWarning)\n",
      "/Users/nn960208/anaconda2/lib/python2.7/site-packages/sklearn/learning_curve.py:22: DeprecationWarning: This module was deprecated in version 0.18 in favor of the model_selection module into which all the functions are moved. This module will be removed in 0.20\n",
      "  DeprecationWarning)\n"
     ]
    }
   ],
   "source": [
    "import warnings\n",
    "warnings.filterwarnings('ignore')\n",
    "\n",
    "import numpy as np\n",
    "import time\n",
    "from sklearn import *\n",
    "\n",
    "from itertools import product\n"
   ]
  },
  {
   "cell_type": "code",
   "execution_count": 26,
   "metadata": {
    "collapsed": true
   },
   "outputs": [],
   "source": [
    "def to_kaggle(prediction):\n",
    "    current_time_str = time.strftime(\"%H-%M-%S_%a_%b_%d\", time.localtime())\n",
    "    file_name = \"{}.txt\".format(current_time_str)\n",
    "    np.savetxt(file_name,\n",
    "           np.vstack( (np.arange(len(prediction)) , prediction) ).T,\n",
    "           '%d, %.2f',header='ID,Prob1',comments='',delimiter=',');"
   ]
  },
  {
   "cell_type": "code",
   "execution_count": 3,
   "metadata": {
    "collapsed": true
   },
   "outputs": [],
   "source": [
    "x_data_all = np.genfromtxt(\"X_train.txt\", delimiter=None)\n",
    "y_data_all = np.genfromtxt(\"Y_train.txt\", delimiter=None)\n",
    "x_test = np.genfromtxt(\"X_test.txt\", delimiter=None)"
   ]
  },
  {
   "cell_type": "code",
   "execution_count": 5,
   "metadata": {},
   "outputs": [],
   "source": [
    "x_data = x_data_all\n",
    "y_data = y_data_all"
   ]
  },
  {
   "cell_type": "code",
   "execution_count": 6,
   "metadata": {
    "collapsed": true
   },
   "outputs": [],
   "source": [
    "x_train, x_validation, y_train, y_validation = model_selection.train_test_split(\n",
    "    x_data, y_data, test_size=0.2, random_state=42)"
   ]
  },
  {
   "cell_type": "code",
   "execution_count": 7,
   "metadata": {},
   "outputs": [
    {
     "name": "stdout",
     "output_type": "stream",
     "text": [
      "training started\n",
      "training finished\n",
      "('validation roc:', 0.6678297915568554)\n",
      "('training error:', 0.30789374999999997)\n",
      "('validation error:', 0.30530000000000002)\n"
     ]
    }
   ],
   "source": [
    "logistic_classifier = pipeline.Pipeline([\n",
    "    ('poly', preprocessing.PolynomialFeatures(degree=2, interaction_only=False)),\n",
    "    ('logistic', linear_model.LogisticRegression())])\n",
    "\n",
    "print(\"training started\")\n",
    "logistic_classifier.fit(x_train, y_train)\n",
    "print(\"training finished\")\n",
    "\n",
    "logistic_classifier_roc = metrics.roc_auc_score(y_validation, logistic_classifier.predict_proba(x_validation)[:,1])\n",
    "print(\"validation roc:\", logistic_classifier_roc)\n",
    "\n",
    "print(\"training error:\", 1 - logistic_classifier.score(x_train, y_train))\n",
    "print(\"validation error:\", 1 - logistic_classifier.score(x_validation, y_validation))"
   ]
  },
  {
   "cell_type": "code",
   "execution_count": 8,
   "metadata": {},
   "outputs": [
    {
     "name": "stdout",
     "output_type": "stream",
     "text": [
      "training started\n",
      "training finished, took 11.412612915 seconds\n",
      "0.722975348052\n",
      "('training error:', 0.051062500000000011)\n",
      "('validation error:', 0.28749999999999998)\n"
     ]
    }
   ],
   "source": [
    "knn_classifier = neighbors.KNeighborsClassifier(n_neighbors=10, weights=\"distance\", n_jobs=-1)\n",
    "\n",
    "print(\"training started\")\n",
    "starting_time = time.time()\n",
    "knn_classifier.fit(x_train, y_train)\n",
    "end_time = time.time()\n",
    "print(\"training finished, took {} seconds\".format(end_time - starting_time))\n",
    "\n",
    "y_validation_hat = knn_classifier.predict_proba(x_validation)[:,1]\n",
    "\n",
    "knn_classifier_roc = metrics.roc_auc_score(y_validation, y_validation_hat)\n",
    "print(knn_classifier_roc)\n",
    "\n",
    "print(\"training error:\", 1 - knn_classifier.score(x_train, y_train))\n",
    "print(\"validation error:\", 1 - knn_classifier.score(x_validation, y_validation))"
   ]
  },
  {
   "cell_type": "code",
   "execution_count": 9,
   "metadata": {},
   "outputs": [
    {
     "name": "stdout",
     "output_type": "stream",
     "text": [
      "training started\n",
      "training finished, took 226.163815975 seconds\n",
      "0.786231409184\n",
      "('training error:', 0.12881874999999998)\n",
      "('validation error:', 0.25797499999999995)\n"
     ]
    }
   ],
   "source": [
    "random_forest_classifier = ensemble.RandomForestClassifier(\n",
    "    n_estimators=1000, min_samples_leaf=4, n_jobs=-1, oob_score=True)\n",
    "\n",
    "print(\"training started\")\n",
    "starting_time = time.time()\n",
    "random_forest_classifier.fit(x_train, y_train)\n",
    "end_time = time.time()\n",
    "print(\"training finished, took {} seconds\".format(end_time - starting_time))\n",
    "\n",
    "random_forest_classifier_roc = metrics.roc_auc_score(\n",
    "    y_validation, random_forest_classifier.predict_proba(x_validation)[:,1])\n",
    "print(random_forest_classifier_roc)\n",
    "\n",
    "print(\"training error:\", 1 - random_forest_classifier.score(x_train, y_train))\n",
    "print(\"validation error:\", 1 - random_forest_classifier.score(x_validation, y_validation))"
   ]
  },
  {
   "cell_type": "code",
   "execution_count": null,
   "metadata": {},
   "outputs": [
    {
     "name": "stdout",
     "output_type": "stream",
     "text": [
      "training started\n"
     ]
    }
   ],
   "source": [
    "neural_network_classifier = pipeline.Pipeline([\n",
    "    (\"scale\", preprocessing.StandardScaler().fit(x_train)),\n",
    "    (\"nn\", neural_network.MLPClassifier(\n",
    "        hidden_layer_sizes=(14*20, 14*10),\n",
    "        warm_start=True))])\n",
    "\n",
    "print(\"training started\")\n",
    "starting_time = time.time()\n",
    "neural_network_classifier.fit(x_train, y_train)\n",
    "end_time = time.time()\n",
    "print(\"training finished, took {} seconds\".format(end_time - starting_time))\n",
    "\n",
    "neural_network_classifier_roc = metrics.roc_auc_score(\n",
    "    y_validation, neural_network_classifier.predict_proba(x_validation)[:,1])\n",
    "print(\"validation roc:\", neural_network_classifier_roc)"
   ]
  },
  {
   "cell_type": "code",
   "execution_count": 19,
   "metadata": {},
   "outputs": [
    {
     "name": "stdout",
     "output_type": "stream",
     "text": [
      "training started\n",
      "training finished, took 50.4556488991 seconds\n",
      "('validation roc:', 0.78362188463172111)\n"
     ]
    }
   ],
   "source": [
    "extra_tree_classifier = ensemble.ExtraTreesClassifier(\n",
    "    n_estimators=500, max_depth=50, min_samples_split=10, min_samples_leaf=2, max_features='log2', n_jobs=-1)\n",
    "\n",
    "print(\"training started\")\n",
    "starting_time = time.time()\n",
    "extra_tree_classifier.fit(x_train, y_train)\n",
    "end_time = time.time()\n",
    "print(\"training finished, took {} seconds\".format(end_time - starting_time))\n",
    "\n",
    "extra_tree_classifier_roc = metrics.roc_auc_score(\n",
    "    y_validation, extra_tree_classifier.predict_proba(x_validation)[:,1])\n",
    "print(\"validation roc:\", extra_tree_classifier_roc)"
   ]
  },
  {
   "cell_type": "code",
   "execution_count": 20,
   "metadata": {},
   "outputs": [
    {
     "name": "stdout",
     "output_type": "stream",
     "text": [
      "training started\n",
      "training finished, took 0.123184204102 seconds\n",
      "('validation roc:', 0.61240952891841061)\n"
     ]
    }
   ],
   "source": [
    "naive_bayes_classifier = naive_bayes.GaussianNB()\n",
    "\n",
    "print(\"training started\")\n",
    "starting_time = time.time()\n",
    "naive_bayes_classifier.fit(x_train, y_train)\n",
    "end_time = time.time()\n",
    "print(\"training finished, took {} seconds\".format(end_time - starting_time))\n",
    "\n",
    "naive_bayes_classifier_roc = metrics.roc_auc_score(\n",
    "    y_validation, naive_bayes_classifier.predict_proba(x_validation)[:,1])\n",
    "print(\"validation roc:\", naive_bayes_classifier_roc)"
   ]
  },
  {
   "cell_type": "code",
   "execution_count": 21,
   "metadata": {},
   "outputs": [
    {
     "name": "stdout",
     "output_type": "stream",
     "text": [
      "training started\n",
      "training finished, took 50.8728189468 seconds\n",
      "0.744006779983\n",
      "('training error:', 0.25843125)\n",
      "('validation error:', 0.27507499999999996)\n"
     ]
    }
   ],
   "source": [
    "gradient_boosting_classifier = ensemble.GradientBoostingClassifier(n_estimators=100, learning_rate=0.5,\n",
    "     max_depth=10, max_leaf_nodes=15, random_state=0)\n",
    "\n",
    "print(\"training started\")\n",
    "starting_time = time.time()\n",
    "gradient_boosting_classifier.fit(x_train, y_train)\n",
    "end_time = time.time()\n",
    "print(\"training finished, took {} seconds\".format(end_time - starting_time))\n",
    "\n",
    "gradient_boosting_classifier_roc = metrics.roc_auc_score(\n",
    "   y_validation, gradient_boosting_classifier.predict_proba(x_validation)[:,1])\n",
    "print(gradient_boosting_classifier_roc)\n",
    "\n",
    "print(\"training error:\", 1 - gradient_boosting_classifier.score(x_train, y_train))\n",
    "print(\"validation error:\", 1 - gradient_boosting_classifier.score(x_validation, y_validation))"
   ]
  },
  {
   "cell_type": "code",
   "execution_count": 22,
   "metadata": {},
   "outputs": [
    {
     "name": "stdout",
     "output_type": "stream",
     "text": [
      "training started\n",
      "training finished, took 277.880982161 seconds\n",
      "0.76433083815\n"
     ]
    }
   ],
   "source": [
    "ada_classifier = ensemble.AdaBoostClassifier(tree.DecisionTreeClassifier(max_depth=3, max_features=7),\n",
    "               n_estimators=1000, learning_rate=0.5)\n",
    "\n",
    "print(\"training started\")\n",
    "starting_time = time.time()\n",
    "ada_classifier.fit(x_train, y_train)\n",
    "end_time = time.time()\n",
    "print(\"training finished, took {} seconds\".format(end_time - starting_time))\n",
    "\n",
    "ada_classifier_roc = metrics.roc_auc_score(\n",
    "   y_validation, ada_classifier.predict_proba(x_validation)[:,1])\n",
    "print(ada_classifier_roc)"
   ]
  },
  {
   "cell_type": "code",
   "execution_count": 23,
   "metadata": {},
   "outputs": [
    {
     "name": "stdout",
     "output_type": "stream",
     "text": [
      "('roc:', 0.78682868185895594)\n",
      "('weight:', [3, 1, 15, 4, 9])\n"
     ]
    }
   ],
   "source": [
    "classifier_list = [\n",
    "    (\"logistic_regression\", logistic_classifier, 3),\n",
    "    (\"k_nearest_neighbor\", knn_classifier, 1),\n",
    "    (\"random_forest\", random_forest_classifier, 15),\n",
    "    (\"neural_network\", neural_network_classifier, 4),\n",
    "    (\"gradient_boosting\", gradient_boosting_classifier, 9),\n",
    "#     (\"ada_boosting\", ada_classifier, 9),\n",
    "]\n",
    "\n",
    "\n",
    "y_validation_hat_list = []\n",
    "for classifier in classifier_list:\n",
    "    y_validation_hat = classifier[1].predict_proba(x_validation)[:,1]\n",
    "    for i in range(classifier[2]):\n",
    "        y_validation_hat_list.append(y_validation_hat)\n",
    "        \n",
    "y_validation_hat_average = np.mean(np.array(y_validation_hat_list), axis=0)\n",
    "\n",
    "voting_roc = metrics.roc_auc_score(y_validation, y_validation_hat_average)\n",
    "print(\"roc:\", voting_roc)\n",
    "print(\"weight:\", [classifier[2] for classifier in classifier_list])"
   ]
  },
  {
   "cell_type": "code",
   "execution_count": 24,
   "metadata": {
    "collapsed": true
   },
   "outputs": [],
   "source": [
    "y_test_hat_list = []\n",
    "for classifier in classifier_list:\n",
    "    y_test_hat = classifier[1].predict_proba(x_test)[:,1]\n",
    "    for i in range(classifier[2]):\n",
    "        y_test_hat_list.append(y_test_hat)\n",
    "        \n",
    "y_test_hat_average = np.mean(np.array(y_test_hat_list), axis=0)"
   ]
  },
  {
   "cell_type": "code",
   "execution_count": 27,
   "metadata": {},
   "outputs": [
    {
     "name": "stdout",
     "output_type": "stream",
     "text": [
      "finished\n"
     ]
    }
   ],
   "source": [
    "to_kaggle(y_test_hat_average)\n",
    "print(\"finished\")"
   ]
  },
  {
   "cell_type": "code",
   "execution_count": null,
   "metadata": {
    "collapsed": true
   },
   "outputs": [],
   "source": []
  }
 ],
 "metadata": {
  "kernelspec": {
   "display_name": "Python 2",
   "language": "python",
   "name": "python2"
  },
  "language_info": {
   "codemirror_mode": {
    "name": "ipython",
    "version": 2
   },
   "file_extension": ".py",
   "mimetype": "text/x-python",
   "name": "python",
   "nbconvert_exporter": "python",
   "pygments_lexer": "ipython2",
   "version": "2.7.14"
  }
 },
 "nbformat": 4,
 "nbformat_minor": 2
}
